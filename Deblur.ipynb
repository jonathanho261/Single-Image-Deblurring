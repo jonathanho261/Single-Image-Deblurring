{
 "cells": [
  {
   "cell_type": "code",
   "execution_count": 1,
   "metadata": {},
   "outputs": [],
   "source": [
    "%load_ext autoreload\n",
    "%autoreload 2\n",
    "%matplotlib inline"
   ]
  },
  {
   "cell_type": "code",
   "execution_count": 92,
   "metadata": {},
   "outputs": [],
   "source": [
    "# System imports\n",
    "from os import path\n",
    "import math\n",
    "\n",
    "# Third-Party Imports\n",
    "import cv2\n",
    "import matplotlib.pyplot as plt\n",
    "import numpy as np\n",
    "from numpy import linalg\n",
    "from scipy.interpolate import griddata\n",
    "import scipy.sparse.linalg\n",
    "from skimage import color, data, restoration\n",
    "from ksvd import ApproximateKSVD\n",
    "from spgl1 import spg_bp\n",
    "from sklearn.decomposition import DictionaryLearning\n",
    "\n",
    "datadir = \"/Users/jho/cs445/final_project/Single-Image-Deblurring/\" \n",
    "\n",
    "import utils\n",
    "from utils.utils import gaussian_kernel, matlab_style_gauss2D as gaussian_kernel, matlab_style_gauss2D\n",
    "from utils.odctdict import odctdict as odctdict"
   ]
  },
  {
   "cell_type": "code",
   "execution_count": 141,
   "metadata": {},
   "outputs": [],
   "source": [
    "# algorithm from: https://www.math.ucla.edu/~bertozzi/papers/DirectSparseDeblurring.pdf\n",
    "def direct_sparse(img, D, kernel, skip=(10,10)):\n",
    "    \"\"\"\n",
    "    @brief      Direct sparese algoritm by Yifei Lou that solves the deblur problem with\n",
    "                known kernel. This function also tries to reconstruct the image.\n",
    "                \n",
    "    @param      img      blurred image\n",
    "    @param      D        dictionary\n",
    "    @param      kernel   kernel\n",
    "    \n",
    "    @return     no idea yet\n",
    "    \"\"\"\n",
    "    n, m = D.shape\n",
    "    kernel_size = kernel.shape[0]\n",
    "    \n",
    "    patch_size = int(np.sqrt(n))\n",
    "    \n",
    "    i_size, j_size = 0, 0\n",
    "    for i in range(0, blur_img.shape[0]-n, skip[0]):\n",
    "        i_size += 1\n",
    "    for j in range(0, blur_img.shape[1]-n, skip[1]):\n",
    "        j_size += 1\n",
    "    \n",
    "    D_hat = cv2.filter2D(D, -1, kernel)\n",
    "    I_hat = restoration.richardson_lucy(blur_img, kernel)\n",
    "    \n",
    "    Alpha_next = np.zeros((i_size, j_size, m))\n",
    "    patch = blur_img[0:0+patch_size, 0:0+patch_size]\n",
    "    alpha,resid,grad,info = spg_bp(D_hat, patch.reshape(-1))\n",
    "#     aksvd = ApproximateKSVD(n_components=n)\n",
    "    \n",
    "    I_p_hat = I_hat[0:0+patch_size, 0:0+patch_size]\n",
    "    \n",
    "#     print(D_next.shape)\n",
    "#     for i in range(0, blur_img.shape[0]-n, skip[0]):\n",
    "#         for j in range(0, blur_img.shape[1]-n, skip[1]):\n",
    "#             i_index, j_index = int(i/skip[0]), int(j/skip[1])\n",
    "#             patch = blur_img[i:i+patch_size, j:j+patch_size]\n",
    "            \n",
    "#             Alpha_next[i_index, j_index],resid,grad,info = spg_bp(D_hat, patch.reshape(-1))\n",
    "#             D_next\n",
    "            \n",
    "            \n",
    "            \n",
    "    \n",
    "#     D_hat = cv2.filter2D(D, -1, kernel)\n",
    "#     B = blur_img[0:0+patch_size, 0:0+patch_size]\n",
    "# #     Alpha = np.zeros((i_size, j_size, m))\n",
    "#     alpha,resid,grad,info = spg_bp(D_hat, B.reshape(-1))\n",
    "    \n",
    "#     I_p_hat = restoration.richardson_lucy(B, kernel)\n",
    "#     aksvd = ApproximateKSVD(n_components=n)\n",
    "#     D_next = aksvd.fit(I_p_hat - (D@alpha).reshape(I_p_hat.shape)).components_\n",
    "# #     alpha,resid,grad,info = spg_bp(D_hat, B.reshape(-1))\n",
    "#             Alpha[i_index,j_index],resid,grad,info = spg_bp(D_hat, b)\n",
    "            \n",
    "            \n",
    "#     patch = blur_img[0:0+patch_size, 0:0+patch_size]\n",
    "#     b = patch.reshape(-1)\n",
    "#     alpha,resid,grad,info = spg_bp(D_hat, b)\n",
    "            \n",
    "    \n",
    "#     for i in range(0, blur_img.shape[0]-n):\n",
    "#         for j in range(0, blur_img.shape[1]-n):\n",
    "#             I_p = blur_img[i:i+patch_size, j:j+patch_size]\n",
    "#             I_p_hat = restoration.richardson_lucy(I_p, kernel, iterations=iters) \n",
    "#     I_p_hat = restoration.richardson_lucy(patch, kernel, iterations=iters) \n",
    "#     aksvd = ApproximateKSVD(n_components=n)\n",
    "#     D_next = aksvd.fit(I_p_hat - (D@alpha).reshape(I_p_hat.shape)).components_    \n",
    "    return 0, 0\n",
    "#     return alpha, D_next\n",
    "    \n",
    "#             patch = blur_img[i:i+patch_size, j:j+patch_size]\n",
    "#             I_p = patch.reshape(-1)\n",
    "#             Alpha[i,j] = np.linalg.lstsq(D, I_p, rcond=None)[0]\n",
    "            \n",
    "#     Alpha_next = np.zeros(Alpha.shape)\n",
    "#     for i in range(0, blur_img.shape[0]-n):\n",
    "#         for j in range(0, blur_img.shape[1]-n):\n",
    "            \n",
    "            \n",
    "    \n",
    "    "
   ]
  },
  {
   "cell_type": "code",
   "execution_count": 142,
   "metadata": {},
   "outputs": [],
   "source": [
    "def estimate_kernel(blur_img, kernel_size, lambda_=5, block_size=(3,3)):\n",
    "    # need denom to get to get weights. Now I think i have everything...\n",
    "    \n",
    "    # this is for reference\n",
    "    numerator = 0\n",
    "    denominator = 0\n",
    "\n",
    "    # sum(weight * irradience) / sum(irradience) \n",
    "    for n, image in enumerate(ldr_images):\n",
    "        z_ij = image[im_h][im_w][color]\n",
    "        numerator += w(z_ij)*(z_ij / exposure_times[n])\n",
    "        denominator += w(z_ij)\n",
    "\n",
    "    # numerator = sum(weight * irradience) \n",
    "    # denominator = sum(irradience) \n",
    "    hdr_image[im_h, im_w, color] = numerator / denominator\n",
    "    \n",
    "    return blur_img"
   ]
  },
  {
   "cell_type": "code",
   "execution_count": 143,
   "metadata": {},
   "outputs": [],
   "source": [
    "def deblur(blur_img, kernel_size=7, patch_size=12, iters=6, start_loc=(0,0), blur_strength = 0.4):\n",
    "    kernel = matlab_style_gauss2D((kernel_size, kernel_size), blur_strength)\n",
    "    patch = blur_img[start_loc[0]:start_loc[0]+patch_size, start_loc[0]:patch_size]\n",
    "    \n",
    "    delta = 0.0001\n",
    "    prev_error = 0\n",
    "    \n",
    "    n = patch_size**2\n",
    "    m = 10*n\n",
    "    \n",
    "    D = odctdict(n, m)\n",
    "    \n",
    "    alpha, D = direct_sparse(blur_img, D, kernel)\n",
    "#     kernel = estimate_kernel(blur_img, alpha, D, kernel_size)\n",
    "#     for t in range(iters):\n",
    "#         deblur_img = direct_sparse(blur_img, D, kernel)\n",
    "#         kernel = estimate_kernel(deblur_img, blur_img, kernel_size)\n",
    "    "
   ]
  },
  {
   "cell_type": "code",
   "execution_count": 144,
   "metadata": {},
   "outputs": [
    {
     "data": {
      "image/png": "[encoded data removed]",
      "text/plain": [
       "<Figure size 432x288 with 1 Axes>"
      ]
     },
     "metadata": {
      "needs_background": "light"
     },
     "output_type": "display_data"
    },
    {
     "name": "stdout",
     "output_type": "stream",
     "text": [
      "(1,)\n"
     ]
    }
   ],
   "source": [
    "blur_img_name = 'data/blurred.jpg'\n",
    "# blur_img = cv2.cvtColor(cv2.imread(blur_img_name), cv2.COLOR_BGR2RGB).astype('double') / 255.0 \n",
    "blur_img = cv2.cvtColor(cv2.imread(blur_img_name), cv2.COLOR_BGRA2GRAY).astype('double') / 255.0  \n",
    "plt.imshow(blur_img, cmap='gray')\n",
    "plt.show()\n",
    "\n",
    "deblur(blur_img)\n",
    "# psf = np.ones((5, 5)) / 25\n",
    "# deconvolved_RL = restoration.richardson_lucy(blur_img, psf, iterations=30) \n",
    "# plt.imshow(blur_img, cmap='gray')\n",
    "# plt.show()\n"
   ]
  },
  {
   "cell_type": "code",
   "execution_count": null,
   "metadata": {},
   "outputs": [],
   "source": []
  },
  {
   "cell_type": "code",
   "execution_count": 127,
   "metadata": {},
   "outputs": [
    {
     "ename": "IndentationError",
     "evalue": "expected an indented block (<ipython-input-127-5ee6439a56ed>, line 33)",
     "output_type": "error",
     "traceback": [
      "\u001b[0;36m  File \u001b[0;32m\"<ipython-input-127-5ee6439a56ed>\"\u001b[0;36m, line \u001b[0;32m33\u001b[0m\n\u001b[0;31m    iters = 20\u001b[0m\n\u001b[0m    ^\u001b[0m\n\u001b[0;31mIndentationError\u001b[0m\u001b[0;31m:\u001b[0m expected an indented block\n"
     ]
    }
   ],
   "source": [
    "def direct_sparse(blur_img, D, kernel, skip=(3,3)):\n",
    "    \"\"\"\n",
    "    @brief      Direct sparese algoritm by Yifei Lou that solves the deblur problem with\n",
    "                known kernel. This function also tries to reconstruct the image.\n",
    "                \n",
    "    @param      blur_img   blurred image\n",
    "    @param      D          dictionary\n",
    "    @param      kernel     kernel\n",
    "    @return     no idea yet\n",
    "    \"\"\"\n",
    "    patch_size = np.sqrt(D.shape[0])\n",
    "    kernel_size = kernel.shape[0]\n",
    "    blurred_dict_size = int(patch_size - kernel_size + 1)\n",
    "    \n",
    "    # use blocks in blurry image to build data\n",
    "#     print(blur_img.shape[0], blur_img.shape[1], skip[0])\n",
    "#     print(patch_size, kernel_size, blurred_dict_size)\n",
    "#     count = 0\n",
    "    for i in range(0, blur_img.shape[0]-blurred_dict_size, skip[0]):\n",
    "        for j in range(0, blur_img.shape[1]-blurred_dict_size, skip[1]):\n",
    "#             count += 1\n",
    "    \n",
    "#     data = np.zeros(count)\n",
    "#     index = 0\n",
    "#     for i in range(0, blur_img.shape[0]-blurred_dict_size, skip[0]):\n",
    "#         for j in range(0, blur_img.shape[1]-blurred_dict_size, skip[1]):\n",
    "#             patch = blur_img[i:i+blurred_dict_size, j:j+blurred_dict_size]\n",
    "#             patch = patch.reshape(-1)\n",
    "#             data[index:index+patch.shape[0]] = patch\n",
    "    \n",
    "#     data = data.T\n",
    "    \n",
    "    iters = 20\n",
    "    lim = int(np.ceil(kernel_size/2))\n",
    "    weights = np.zeros(blur_img.shape)\n",
    "    weights[lim:weights.shape[0]-lim, lim:weights.shape[1]-lim] = 1\n",
    "\n",
    "    deconvolved_RL = restoration.richardson_lucy(blur_img, weights, iterations=iters) \n",
    "    \n",
    "    # generate the blurred dictionary and resized initial dictionary\n",
    "    \n",
    "#     aksvd = ApproximateKSVD(n_components=D.shape[1], max_iter=1, transform_n_nonzero_coefs=5)\n",
    "#     blur_D = aksvd.fit(deconvolved_RL).components_\n",
    "#     print(blur_D.shape, D.shape)\n"
   ]
  },
  {
   "cell_type": "code",
   "execution_count": null,
   "metadata": {},
   "outputs": [],
   "source": []
  }
 ],
 "metadata": {
  "kernelspec": {
   "display_name": "Python 3",
   "language": "python",
   "name": "python3"
  },
  "language_info": {
   "codemirror_mode": {
    "name": "ipython",
    "version": 3
   },
   "file_extension": ".py",
   "mimetype": "text/x-python",
   "name": "python",
   "nbconvert_exporter": "python",
   "pygments_lexer": "ipython3",
   "version": "3.7.6"
  }
 },
 "nbformat": 4,
 "nbformat_minor": 4
}
