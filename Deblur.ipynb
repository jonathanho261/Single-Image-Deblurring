{
 "cells": [
  {
   "cell_type": "code",
   "execution_count": 1,
   "metadata": {},
   "outputs": [],
   "source": [
    "%load_ext autoreload\n",
    "%autoreload 2\n",
    "%matplotlib inline"
   ]
  },
  {
   "cell_type": "code",
   "execution_count": 2,
   "metadata": {},
   "outputs": [],
   "source": [
    "# System imports\n",
    "from os import path\n",
    "import math\n",
    "\n",
    "# Third-Party Imports\n",
    "import cv2\n",
    "import matplotlib.pyplot as plt\n",
    "import numpy as np\n",
    "from scipy.interpolate import griddata\n",
    "import scipy.sparse.linalg\n",
    "\n",
    "# modify to where you store your project data including utils\n",
    "datadir = \"/Users/jho/cs445/final_project/Single-Image-Deblurring/\" \n",
    "\n",
    "# utilfn = datadir + \"utils\"\n",
    "# !cp -r \"$utilfn\" .\n",
    "datafn = datadir + \"data/\"\n",
    "!cp -r \"$datafn\" .\n",
    "\n",
    "# # can change this to your output directory of choice\n",
    "# !mkdir \"images\"\n",
    "# !mkdir \"images/outputs\"\n",
    "\n",
    "# # import starter code\n",
    "# import utils\n",
    "# from utils.io import read_image, write_image, read_hdr_image, write_hdr_image\n",
    "# from utils.display import display_images_linear_rescale, rescale_images_linear\n",
    "# from utils.hdr_helpers import gsolve\n",
    "# from utils.hdr_helpers import get_equirectangular_image\n",
    "# from utils.bilateral_filter import bilateral_filter"
   ]
  },
  {
   "cell_type": "code",
   "execution_count": null,
   "metadata": {},
   "outputs": [],
   "source": [
    "blur_img_name = 'data/brick.jpeg'\n",
    "blur_img = cv2.cvtColor(cv2.imread(blur_img_name), cv2.COLOR_BGR2RGB).astype('double') / 255.0 \n",
    "plt.imshow(blur_img)\n",
    "plt.show()"
   ]
  }
 ],
 "metadata": {
  "kernelspec": {
   "display_name": "Python 3",
   "language": "python",
   "name": "python3"
  },
  "language_info": {
   "codemirror_mode": {
    "name": "ipython",
    "version": 3
   },
   "file_extension": ".py",
   "mimetype": "text/x-python",
   "name": "python",
   "nbconvert_exporter": "python",
   "pygments_lexer": "ipython3",
   "version": "3.7.6"
  }
 },
 "nbformat": 4,
 "nbformat_minor": 4
}
